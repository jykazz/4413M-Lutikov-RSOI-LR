{
 "cells": [
  {
   "cell_type": "code",
   "execution_count": null,
   "metadata": {},
   "outputs": [
    {
     "name": "stdout",
     "output_type": "stream",
     "text": [
      "Listening on port 8010...\n"
     ]
    },
    {
     "name": "stderr",
     "output_type": "stream",
     "text": [
      "127.0.0.1 - - [10/Oct/2023 17:49:17] \"POST /RPC2 HTTP/1.1\" 200 -\n",
      "127.0.0.1 - - [10/Oct/2023 17:49:23] \"POST /RPC2 HTTP/1.1\" 200 -\n",
      "127.0.0.1 - - [10/Oct/2023 17:49:35] \"POST /RPC2 HTTP/1.1\" 200 -\n",
      "127.0.0.1 - - [10/Oct/2023 17:49:41] \"POST /RPC2 HTTP/1.1\" 200 -\n",
      "127.0.0.1 - - [10/Oct/2023 17:49:48] \"POST /RPC2 HTTP/1.1\" 200 -\n",
      "127.0.0.1 - - [10/Oct/2023 17:49:54] \"POST /RPC2 HTTP/1.1\" 200 -\n",
      "127.0.0.1 - - [10/Oct/2023 17:50:00] \"POST /RPC2 HTTP/1.1\" 200 -\n",
      "127.0.0.1 - - [10/Oct/2023 17:50:06] \"POST /RPC2 HTTP/1.1\" 200 -\n",
      "127.0.0.1 - - [10/Oct/2023 17:50:12] \"POST /RPC2 HTTP/1.1\" 200 -\n",
      "127.0.0.1 - - [10/Oct/2023 17:50:18] \"POST /RPC2 HTTP/1.1\" 200 -\n",
      "127.0.0.1 - - [10/Oct/2023 17:50:24] \"POST /RPC2 HTTP/1.1\" 200 -\n",
      "127.0.0.1 - - [10/Oct/2023 17:50:31] \"POST /RPC2 HTTP/1.1\" 200 -\n",
      "127.0.0.1 - - [10/Oct/2023 17:50:37] \"POST /RPC2 HTTP/1.1\" 200 -\n",
      "127.0.0.1 - - [10/Oct/2023 17:50:47] \"POST /RPC2 HTTP/1.1\" 200 -\n",
      "127.0.0.1 - - [10/Oct/2023 17:51:09] \"POST /RPC2 HTTP/1.1\" 200 -\n",
      "127.0.0.1 - - [10/Oct/2023 17:51:17] \"POST /RPC2 HTTP/1.1\" 200 -\n",
      "127.0.0.1 - - [10/Oct/2023 17:51:23] \"POST /RPC2 HTTP/1.1\" 200 -\n",
      "127.0.0.1 - - [10/Oct/2023 17:51:29] \"POST /RPC2 HTTP/1.1\" 200 -\n",
      "127.0.0.1 - - [10/Oct/2023 17:51:36] \"POST /RPC2 HTTP/1.1\" 200 -\n",
      "127.0.0.1 - - [10/Oct/2023 17:51:56] \"POST /RPC2 HTTP/1.1\" 200 -\n",
      "127.0.0.1 - - [10/Oct/2023 17:52:09] \"POST /RPC2 HTTP/1.1\" 200 -\n",
      "127.0.0.1 - - [10/Oct/2023 17:52:24] \"POST /RPC2 HTTP/1.1\" 200 -\n",
      "127.0.0.1 - - [10/Oct/2023 17:52:39] \"POST /RPC2 HTTP/1.1\" 200 -\n",
      "127.0.0.1 - - [10/Oct/2023 17:52:48] \"POST /RPC2 HTTP/1.1\" 200 -\n",
      "127.0.0.1 - - [10/Oct/2023 17:52:58] \"POST /RPC2 HTTP/1.1\" 200 -\n",
      "127.0.0.1 - - [10/Oct/2023 17:53:06] \"POST /RPC2 HTTP/1.1\" 200 -\n",
      "127.0.0.1 - - [10/Oct/2023 17:53:11] \"POST /RPC2 HTTP/1.1\" 200 -\n",
      "127.0.0.1 - - [10/Oct/2023 17:53:15] \"POST /RPC2 HTTP/1.1\" 200 -\n"
     ]
    }
   ],
   "source": [
    "from xmlrpc.server import SimpleXMLRPCServer\n",
    "from xmlrpc.server import SimpleXMLRPCRequestHandler\n",
    "import xmlrpc.client as client\n",
    "import datetime\n",
    "\n",
    "\n",
    "class RequestHandler(SimpleXMLRPCRequestHandler):\n",
    "    rpc_paths = ('/RPC2',)\n",
    "proxy_server = SimpleXMLRPCServer((\"localhost\", 8010), requestHandler=RequestHandler)\n",
    "server = client.ServerProxy(\"http://localhost:8008\")\n",
    "stats_server = client.ServerProxy(\"http://localhost:8018\")\n",
    "stats2_server = client.ServerProxy(\"http://localhost:8019\")\n",
    "\n",
    "\n",
    "# Приём команд от клиента и передача их на сервер, а затем возврат результата\n",
    "def execute_function(func_name, *params):\n",
    "    try:\n",
    "        work_time = datetime.datetime.now()\n",
    "        if len(params) == 0:\n",
    "            result = eval('server.' + func_name)()\n",
    "        elif len(params) == 1:\n",
    "            result = eval('server.' + func_name)(params[0])\n",
    "        elif len(params) == 2:\n",
    "            result = eval('server.' + func_name)(params[0], params[1])\n",
    "        elif len(params) == 3:\n",
    "            result = eval('server.' + func_name)(params[0], params[1], params[2])\n",
    "        work_time = datetime.datetime.now() - work_time\n",
    "        add_log(func_name, work_time.total_seconds(), 1)\n",
    "        add_log(func_name, work_time.total_seconds(), 2)\n",
    "        return result\n",
    "    except:\n",
    "        return 'Server is not available'\n",
    "proxy_server.register_function(execute_function, 'exec')\n",
    "\n",
    "# Добавление в лог через сервер\n",
    "def add_log(func_name, work_time, server_number):\n",
    "    s = stats_server if server_number = 1 else stats2_server\n",
    "    try:\n",
    "        s.add_log(func_name, work_time)\n",
    "        return True\n",
    "    finally:\n",
    "        return False\n",
    "\n",
    "# Получение данных из лога\n",
    "def get_logs_slice(p_type, s_time, e_time, server_number):\n",
    "    s = stats_server if server_number = 1 else stats2_server\n",
    "    try:\n",
    "        return s.get_logs_slice(p_type, s_time, e_time)\n",
    "    except:\n",
    "        return 'Log server is not available'\n",
    "proxy_server.register_function(get_logs_slice, 'get_logs_slice')\n",
    "\n",
    "print (\"Listening on port 8010...\")\n",
    "proxy_server.serve_forever()"
   ]
  }
 ],
 "metadata": {
  "kernelspec": {
   "display_name": "Python 3 (ipykernel)",
   "language": "python",
   "name": "python3"
  },
  "language_info": {
   "codemirror_mode": {
    "name": "ipython",
    "version": 3
   },
   "file_extension": ".py",
   "mimetype": "text/x-python",
   "name": "python",
   "nbconvert_exporter": "python",
   "pygments_lexer": "ipython3",
   "version": "3.11.5"
  }
 },
 "nbformat": 4,
 "nbformat_minor": 4
}
