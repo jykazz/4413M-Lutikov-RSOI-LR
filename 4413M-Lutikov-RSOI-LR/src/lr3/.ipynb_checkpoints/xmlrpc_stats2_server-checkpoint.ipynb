{
 "cells": [
  {
   "cell_type": "code",
   "execution_count": null,
   "metadata": {
    "collapsed": true,
    "jupyter": {
     "outputs_hidden": true
    }
   },
   "outputs": [],
   "source": [
    "from xmlrpc.server import SimpleXMLRPCServer\n",
    "from xmlrpc.server import SimpleXMLRPCRequestHandler\n",
    "import datetime\n",
    "import os\n",
    "import sqlite3\n",
    "\n",
    "\n",
    "class RequestHandler(SimpleXMLRPCRequestHandler):\n",
    "    rpc_paths = ('/RPC2',)\n",
    "server = SimpleXMLRPCServer((\"localhost\", 8019),\n",
    "                            requestHandler=RequestHandler)\n",
    "\n",
    "# Путь к файлу БД\n",
    "log_db_path = '../../resources/lr2/logs/log.db'\n",
    "\n",
    "\n",
    "# Добавление строки в лог\n",
    "def add_log(sname, work_time):\n",
    "    conn = get_or_create_db()\n",
    "    conn.cursor().execute('INSERT INTO log VALUES (?, ?, ?, ?)', (sname, datetime.datetime.now().strftime('%Y%m%dT%H:%M:%S'), work_time))\n",
    "    conn.commit()\n",
    "    conn.close()\n",
    "server.register_function(add_log, 'add_log')\n",
    "\n",
    "\n",
    "def get_or_create_db():\n",
    "    global log_db_path\n",
    "    db_exists = os.path.exists(file_path)\n",
    "    f = open(log_db_path,'w+')\n",
    "    f.close()\n",
    "    conn = sqlite3.connect(log_db_path)\n",
    "    if not db_exists:\n",
    "        conn.cursor().execute('''CREATE TABLE log (type TEXT, ev_time TEXT, work_time REAL)''')\n",
    "    conn.commit()\n",
    "    return conn\n",
    "\n",
    "\n",
    "def get_logs_slice(p_type, s_time, e_time, max_work_time):\n",
    "    if (p_type == 'all' or log[0] == p_type) and (s_time == '' or log[1] >= s_time) and (e_time == '' or log[1] <= e_time) and (max_work_time == '' or log[2] <= max_work_time):\n",
    "    \n",
    "    conn = get_or_create_db()\n",
    "    conn.cursor().execute('INSERT INTO log VALUES (?, ?, ?, ?)', (sname, datetime.datetime.now().strftime('%Y%m%dT%H:%M:%S'), work_time))\n",
    "    conn.commit()\n",
    "    conn.close()\n",
    "    return logs        \n",
    "server.register_function(get_logs_slice, 'get_logs_slice')\n",
    "\n",
    "def get_query(p_type, s_time, e_time, max_work_time):\n",
    "    wheres = []\n",
    "    params = {}\n",
    "    if p_type != 'all':\n",
    "        wheres.append('log.type = :type')\n",
    "        params['type'] = p_type\n",
    "    if s_time != '':\n",
    "        wheres.append('log.ev_time >= :s_time')\n",
    "        params['s_time'] = s_time\n",
    "    if e_time != '':\n",
    "        wheres.append('log.ev_time <= :e_time')\n",
    "        params['s_time'] = s_time\n",
    "    if max_work_time != '':\n",
    "        wheres.append('log.work_time <= :max_work_time')\n",
    "        params['max_work_time'] = max_work_time\n",
    "    query = 'SELECT * FROM log' + ' AND '.join(wheres)\n",
    "\n",
    "\n",
    "print (\"Listening on port 8019...\")\n",
    "server.serve_forever()"
   ]
  }
 ],
 "metadata": {
  "kernelspec": {
   "display_name": "Python 3 (ipykernel)",
   "language": "python",
   "name": "python3"
  },
  "language_info": {
   "codemirror_mode": {
    "name": "ipython",
    "version": 3
   },
   "file_extension": ".py",
   "mimetype": "text/x-python",
   "name": "python",
   "nbconvert_exporter": "python",
   "pygments_lexer": "ipython3",
   "version": "3.11.5"
  }
 },
 "nbformat": 4,
 "nbformat_minor": 4
}
