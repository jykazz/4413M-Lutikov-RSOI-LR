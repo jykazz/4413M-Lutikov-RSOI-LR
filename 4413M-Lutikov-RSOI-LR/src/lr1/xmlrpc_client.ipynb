{
 "cells": [
  {
   "cell_type": "code",
   "execution_count": 1,
   "metadata": {
    "ExecuteTime": {
     "end_time": "2023-12-05T20:07:49.255188Z",
     "start_time": "2023-12-05T20:07:40.940473300Z"
    }
   },
   "outputs": [
    {
     "ename": "ConnectionRefusedError",
     "evalue": "[WinError 10061] Подключение не установлено, т.к. конечный компьютер отверг запрос на подключение",
     "output_type": "error",
     "traceback": [
      "\u001B[1;31m---------------------------------------------------------------------------\u001B[0m",
      "\u001B[1;31mConnectionRefusedError\u001B[0m                    Traceback (most recent call last)",
      "Cell \u001B[1;32mIn[1], line 8\u001B[0m\n\u001B[0;32m      4\u001B[0m \u001B[38;5;28;01mimport\u001B[39;00m \u001B[38;5;21;01mpickle\u001B[39;00m\n\u001B[0;32m      6\u001B[0m server_proxy \u001B[38;5;241m=\u001B[39m rpc\u001B[38;5;241m.\u001B[39mServerProxy(\u001B[38;5;124m\"\u001B[39m\u001B[38;5;124mhttp://localhost:8010\u001B[39m\u001B[38;5;124m\"\u001B[39m)\n\u001B[1;32m----> 8\u001B[0m \u001B[38;5;28mprint\u001B[39m(\u001B[38;5;124m'\u001B[39m\u001B[38;5;124mPing:\u001B[39m\u001B[38;5;124m'\u001B[39m, \u001B[43mserver_proxy\u001B[49m\u001B[38;5;241;43m.\u001B[39;49m\u001B[43mexec\u001B[49m\u001B[43m(\u001B[49m\u001B[38;5;124;43m'\u001B[39;49m\u001B[38;5;124;43mping\u001B[39;49m\u001B[38;5;124;43m'\u001B[39;49m\u001B[43m)\u001B[49m)\n\u001B[0;32m     10\u001B[0m \u001B[38;5;28mprint\u001B[39m(\u001B[38;5;124m'\u001B[39m\u001B[38;5;124mServer datetime:\u001B[39m\u001B[38;5;124m'\u001B[39m, server_proxy\u001B[38;5;241m.\u001B[39mexec(\u001B[38;5;124m'\u001B[39m\u001B[38;5;124mnow\u001B[39m\u001B[38;5;124m'\u001B[39m))\n\u001B[0;32m     12\u001B[0m \u001B[38;5;28mprint\u001B[39m(\u001B[38;5;124m'\u001B[39m\u001B[38;5;124mView, type, value:\u001B[39m\u001B[38;5;124m'\u001B[39m, server_proxy\u001B[38;5;241m.\u001B[39mexec(\u001B[38;5;124m'\u001B[39m\u001B[38;5;124mtype\u001B[39m\u001B[38;5;124m'\u001B[39m, \u001B[38;5;241m2\u001B[39m))\n",
      "File \u001B[1;32m~\\AppData\\Local\\Programs\\Python\\Python311\\Lib\\xmlrpc\\client.py:1122\u001B[0m, in \u001B[0;36m_Method.__call__\u001B[1;34m(self, *args)\u001B[0m\n\u001B[0;32m   1121\u001B[0m \u001B[38;5;28;01mdef\u001B[39;00m \u001B[38;5;21m__call__\u001B[39m(\u001B[38;5;28mself\u001B[39m, \u001B[38;5;241m*\u001B[39margs):\n\u001B[1;32m-> 1122\u001B[0m     \u001B[38;5;28;01mreturn\u001B[39;00m \u001B[38;5;28;43mself\u001B[39;49m\u001B[38;5;241;43m.\u001B[39;49m\u001B[43m__send\u001B[49m\u001B[43m(\u001B[49m\u001B[38;5;28;43mself\u001B[39;49m\u001B[38;5;241;43m.\u001B[39;49m\u001B[43m__name\u001B[49m\u001B[43m,\u001B[49m\u001B[43m \u001B[49m\u001B[43margs\u001B[49m\u001B[43m)\u001B[49m\n",
      "File \u001B[1;32m~\\AppData\\Local\\Programs\\Python\\Python311\\Lib\\xmlrpc\\client.py:1464\u001B[0m, in \u001B[0;36mServerProxy.__request\u001B[1;34m(self, methodname, params)\u001B[0m\n\u001B[0;32m   1458\u001B[0m \u001B[38;5;28;01mdef\u001B[39;00m \u001B[38;5;21m__request\u001B[39m(\u001B[38;5;28mself\u001B[39m, methodname, params):\n\u001B[0;32m   1459\u001B[0m     \u001B[38;5;66;03m# call a method on the remote server\u001B[39;00m\n\u001B[0;32m   1461\u001B[0m     request \u001B[38;5;241m=\u001B[39m dumps(params, methodname, encoding\u001B[38;5;241m=\u001B[39m\u001B[38;5;28mself\u001B[39m\u001B[38;5;241m.\u001B[39m__encoding,\n\u001B[0;32m   1462\u001B[0m                     allow_none\u001B[38;5;241m=\u001B[39m\u001B[38;5;28mself\u001B[39m\u001B[38;5;241m.\u001B[39m__allow_none)\u001B[38;5;241m.\u001B[39mencode(\u001B[38;5;28mself\u001B[39m\u001B[38;5;241m.\u001B[39m__encoding, \u001B[38;5;124m'\u001B[39m\u001B[38;5;124mxmlcharrefreplace\u001B[39m\u001B[38;5;124m'\u001B[39m)\n\u001B[1;32m-> 1464\u001B[0m     response \u001B[38;5;241m=\u001B[39m \u001B[38;5;28;43mself\u001B[39;49m\u001B[38;5;241;43m.\u001B[39;49m\u001B[43m__transport\u001B[49m\u001B[38;5;241;43m.\u001B[39;49m\u001B[43mrequest\u001B[49m\u001B[43m(\u001B[49m\n\u001B[0;32m   1465\u001B[0m \u001B[43m        \u001B[49m\u001B[38;5;28;43mself\u001B[39;49m\u001B[38;5;241;43m.\u001B[39;49m\u001B[43m__host\u001B[49m\u001B[43m,\u001B[49m\n\u001B[0;32m   1466\u001B[0m \u001B[43m        \u001B[49m\u001B[38;5;28;43mself\u001B[39;49m\u001B[38;5;241;43m.\u001B[39;49m\u001B[43m__handler\u001B[49m\u001B[43m,\u001B[49m\n\u001B[0;32m   1467\u001B[0m \u001B[43m        \u001B[49m\u001B[43mrequest\u001B[49m\u001B[43m,\u001B[49m\n\u001B[0;32m   1468\u001B[0m \u001B[43m        \u001B[49m\u001B[43mverbose\u001B[49m\u001B[38;5;241;43m=\u001B[39;49m\u001B[38;5;28;43mself\u001B[39;49m\u001B[38;5;241;43m.\u001B[39;49m\u001B[43m__verbose\u001B[49m\n\u001B[0;32m   1469\u001B[0m \u001B[43m        \u001B[49m\u001B[43m)\u001B[49m\n\u001B[0;32m   1471\u001B[0m     \u001B[38;5;28;01mif\u001B[39;00m \u001B[38;5;28mlen\u001B[39m(response) \u001B[38;5;241m==\u001B[39m \u001B[38;5;241m1\u001B[39m:\n\u001B[0;32m   1472\u001B[0m         response \u001B[38;5;241m=\u001B[39m response[\u001B[38;5;241m0\u001B[39m]\n",
      "File \u001B[1;32m~\\AppData\\Local\\Programs\\Python\\Python311\\Lib\\xmlrpc\\client.py:1166\u001B[0m, in \u001B[0;36mTransport.request\u001B[1;34m(self, host, handler, request_body, verbose)\u001B[0m\n\u001B[0;32m   1164\u001B[0m \u001B[38;5;28;01mfor\u001B[39;00m i \u001B[38;5;129;01min\u001B[39;00m (\u001B[38;5;241m0\u001B[39m, \u001B[38;5;241m1\u001B[39m):\n\u001B[0;32m   1165\u001B[0m     \u001B[38;5;28;01mtry\u001B[39;00m:\n\u001B[1;32m-> 1166\u001B[0m         \u001B[38;5;28;01mreturn\u001B[39;00m \u001B[38;5;28;43mself\u001B[39;49m\u001B[38;5;241;43m.\u001B[39;49m\u001B[43msingle_request\u001B[49m\u001B[43m(\u001B[49m\u001B[43mhost\u001B[49m\u001B[43m,\u001B[49m\u001B[43m \u001B[49m\u001B[43mhandler\u001B[49m\u001B[43m,\u001B[49m\u001B[43m \u001B[49m\u001B[43mrequest_body\u001B[49m\u001B[43m,\u001B[49m\u001B[43m \u001B[49m\u001B[43mverbose\u001B[49m\u001B[43m)\u001B[49m\n\u001B[0;32m   1167\u001B[0m     \u001B[38;5;28;01mexcept\u001B[39;00m http\u001B[38;5;241m.\u001B[39mclient\u001B[38;5;241m.\u001B[39mRemoteDisconnected:\n\u001B[0;32m   1168\u001B[0m         \u001B[38;5;28;01mif\u001B[39;00m i:\n",
      "File \u001B[1;32m~\\AppData\\Local\\Programs\\Python\\Python311\\Lib\\xmlrpc\\client.py:1178\u001B[0m, in \u001B[0;36mTransport.single_request\u001B[1;34m(self, host, handler, request_body, verbose)\u001B[0m\n\u001B[0;32m   1175\u001B[0m \u001B[38;5;28;01mdef\u001B[39;00m \u001B[38;5;21msingle_request\u001B[39m(\u001B[38;5;28mself\u001B[39m, host, handler, request_body, verbose\u001B[38;5;241m=\u001B[39m\u001B[38;5;28;01mFalse\u001B[39;00m):\n\u001B[0;32m   1176\u001B[0m     \u001B[38;5;66;03m# issue XML-RPC request\u001B[39;00m\n\u001B[0;32m   1177\u001B[0m     \u001B[38;5;28;01mtry\u001B[39;00m:\n\u001B[1;32m-> 1178\u001B[0m         http_conn \u001B[38;5;241m=\u001B[39m \u001B[38;5;28;43mself\u001B[39;49m\u001B[38;5;241;43m.\u001B[39;49m\u001B[43msend_request\u001B[49m\u001B[43m(\u001B[49m\u001B[43mhost\u001B[49m\u001B[43m,\u001B[49m\u001B[43m \u001B[49m\u001B[43mhandler\u001B[49m\u001B[43m,\u001B[49m\u001B[43m \u001B[49m\u001B[43mrequest_body\u001B[49m\u001B[43m,\u001B[49m\u001B[43m \u001B[49m\u001B[43mverbose\u001B[49m\u001B[43m)\u001B[49m\n\u001B[0;32m   1179\u001B[0m         resp \u001B[38;5;241m=\u001B[39m http_conn\u001B[38;5;241m.\u001B[39mgetresponse()\n\u001B[0;32m   1180\u001B[0m         \u001B[38;5;28;01mif\u001B[39;00m resp\u001B[38;5;241m.\u001B[39mstatus \u001B[38;5;241m==\u001B[39m \u001B[38;5;241m200\u001B[39m:\n",
      "File \u001B[1;32m~\\AppData\\Local\\Programs\\Python\\Python311\\Lib\\xmlrpc\\client.py:1291\u001B[0m, in \u001B[0;36mTransport.send_request\u001B[1;34m(self, host, handler, request_body, debug)\u001B[0m\n\u001B[0;32m   1289\u001B[0m headers\u001B[38;5;241m.\u001B[39mappend((\u001B[38;5;124m\"\u001B[39m\u001B[38;5;124mUser-Agent\u001B[39m\u001B[38;5;124m\"\u001B[39m, \u001B[38;5;28mself\u001B[39m\u001B[38;5;241m.\u001B[39muser_agent))\n\u001B[0;32m   1290\u001B[0m \u001B[38;5;28mself\u001B[39m\u001B[38;5;241m.\u001B[39msend_headers(connection, headers)\n\u001B[1;32m-> 1291\u001B[0m \u001B[38;5;28;43mself\u001B[39;49m\u001B[38;5;241;43m.\u001B[39;49m\u001B[43msend_content\u001B[49m\u001B[43m(\u001B[49m\u001B[43mconnection\u001B[49m\u001B[43m,\u001B[49m\u001B[43m \u001B[49m\u001B[43mrequest_body\u001B[49m\u001B[43m)\u001B[49m\n\u001B[0;32m   1292\u001B[0m \u001B[38;5;28;01mreturn\u001B[39;00m connection\n",
      "File \u001B[1;32m~\\AppData\\Local\\Programs\\Python\\Python311\\Lib\\xmlrpc\\client.py:1321\u001B[0m, in \u001B[0;36mTransport.send_content\u001B[1;34m(self, connection, request_body)\u001B[0m\n\u001B[0;32m   1318\u001B[0m     request_body \u001B[38;5;241m=\u001B[39m gzip_encode(request_body)\n\u001B[0;32m   1320\u001B[0m connection\u001B[38;5;241m.\u001B[39mputheader(\u001B[38;5;124m\"\u001B[39m\u001B[38;5;124mContent-Length\u001B[39m\u001B[38;5;124m\"\u001B[39m, \u001B[38;5;28mstr\u001B[39m(\u001B[38;5;28mlen\u001B[39m(request_body)))\n\u001B[1;32m-> 1321\u001B[0m \u001B[43mconnection\u001B[49m\u001B[38;5;241;43m.\u001B[39;49m\u001B[43mendheaders\u001B[49m\u001B[43m(\u001B[49m\u001B[43mrequest_body\u001B[49m\u001B[43m)\u001B[49m\n",
      "File \u001B[1;32m~\\AppData\\Local\\Programs\\Python\\Python311\\Lib\\http\\client.py:1281\u001B[0m, in \u001B[0;36mHTTPConnection.endheaders\u001B[1;34m(self, message_body, encode_chunked)\u001B[0m\n\u001B[0;32m   1279\u001B[0m \u001B[38;5;28;01melse\u001B[39;00m:\n\u001B[0;32m   1280\u001B[0m     \u001B[38;5;28;01mraise\u001B[39;00m CannotSendHeader()\n\u001B[1;32m-> 1281\u001B[0m \u001B[38;5;28;43mself\u001B[39;49m\u001B[38;5;241;43m.\u001B[39;49m\u001B[43m_send_output\u001B[49m\u001B[43m(\u001B[49m\u001B[43mmessage_body\u001B[49m\u001B[43m,\u001B[49m\u001B[43m \u001B[49m\u001B[43mencode_chunked\u001B[49m\u001B[38;5;241;43m=\u001B[39;49m\u001B[43mencode_chunked\u001B[49m\u001B[43m)\u001B[49m\n",
      "File \u001B[1;32m~\\AppData\\Local\\Programs\\Python\\Python311\\Lib\\http\\client.py:1041\u001B[0m, in \u001B[0;36mHTTPConnection._send_output\u001B[1;34m(self, message_body, encode_chunked)\u001B[0m\n\u001B[0;32m   1039\u001B[0m msg \u001B[38;5;241m=\u001B[39m \u001B[38;5;124mb\u001B[39m\u001B[38;5;124m\"\u001B[39m\u001B[38;5;130;01m\\r\u001B[39;00m\u001B[38;5;130;01m\\n\u001B[39;00m\u001B[38;5;124m\"\u001B[39m\u001B[38;5;241m.\u001B[39mjoin(\u001B[38;5;28mself\u001B[39m\u001B[38;5;241m.\u001B[39m_buffer)\n\u001B[0;32m   1040\u001B[0m \u001B[38;5;28;01mdel\u001B[39;00m \u001B[38;5;28mself\u001B[39m\u001B[38;5;241m.\u001B[39m_buffer[:]\n\u001B[1;32m-> 1041\u001B[0m \u001B[38;5;28;43mself\u001B[39;49m\u001B[38;5;241;43m.\u001B[39;49m\u001B[43msend\u001B[49m\u001B[43m(\u001B[49m\u001B[43mmsg\u001B[49m\u001B[43m)\u001B[49m\n\u001B[0;32m   1043\u001B[0m \u001B[38;5;28;01mif\u001B[39;00m message_body \u001B[38;5;129;01mis\u001B[39;00m \u001B[38;5;129;01mnot\u001B[39;00m \u001B[38;5;28;01mNone\u001B[39;00m:\n\u001B[0;32m   1044\u001B[0m \n\u001B[0;32m   1045\u001B[0m     \u001B[38;5;66;03m# create a consistent interface to message_body\u001B[39;00m\n\u001B[0;32m   1046\u001B[0m     \u001B[38;5;28;01mif\u001B[39;00m \u001B[38;5;28mhasattr\u001B[39m(message_body, \u001B[38;5;124m'\u001B[39m\u001B[38;5;124mread\u001B[39m\u001B[38;5;124m'\u001B[39m):\n\u001B[0;32m   1047\u001B[0m         \u001B[38;5;66;03m# Let file-like take precedence over byte-like.  This\u001B[39;00m\n\u001B[0;32m   1048\u001B[0m         \u001B[38;5;66;03m# is needed to allow the current position of mmap'ed\u001B[39;00m\n\u001B[0;32m   1049\u001B[0m         \u001B[38;5;66;03m# files to be taken into account.\u001B[39;00m\n",
      "File \u001B[1;32m~\\AppData\\Local\\Programs\\Python\\Python311\\Lib\\http\\client.py:979\u001B[0m, in \u001B[0;36mHTTPConnection.send\u001B[1;34m(self, data)\u001B[0m\n\u001B[0;32m    977\u001B[0m \u001B[38;5;28;01mif\u001B[39;00m \u001B[38;5;28mself\u001B[39m\u001B[38;5;241m.\u001B[39msock \u001B[38;5;129;01mis\u001B[39;00m \u001B[38;5;28;01mNone\u001B[39;00m:\n\u001B[0;32m    978\u001B[0m     \u001B[38;5;28;01mif\u001B[39;00m \u001B[38;5;28mself\u001B[39m\u001B[38;5;241m.\u001B[39mauto_open:\n\u001B[1;32m--> 979\u001B[0m         \u001B[38;5;28;43mself\u001B[39;49m\u001B[38;5;241;43m.\u001B[39;49m\u001B[43mconnect\u001B[49m\u001B[43m(\u001B[49m\u001B[43m)\u001B[49m\n\u001B[0;32m    980\u001B[0m     \u001B[38;5;28;01melse\u001B[39;00m:\n\u001B[0;32m    981\u001B[0m         \u001B[38;5;28;01mraise\u001B[39;00m NotConnected()\n",
      "File \u001B[1;32m~\\AppData\\Local\\Programs\\Python\\Python311\\Lib\\http\\client.py:945\u001B[0m, in \u001B[0;36mHTTPConnection.connect\u001B[1;34m(self)\u001B[0m\n\u001B[0;32m    943\u001B[0m \u001B[38;5;250m\u001B[39m\u001B[38;5;124;03m\"\"\"Connect to the host and port specified in __init__.\"\"\"\u001B[39;00m\n\u001B[0;32m    944\u001B[0m sys\u001B[38;5;241m.\u001B[39maudit(\u001B[38;5;124m\"\u001B[39m\u001B[38;5;124mhttp.client.connect\u001B[39m\u001B[38;5;124m\"\u001B[39m, \u001B[38;5;28mself\u001B[39m, \u001B[38;5;28mself\u001B[39m\u001B[38;5;241m.\u001B[39mhost, \u001B[38;5;28mself\u001B[39m\u001B[38;5;241m.\u001B[39mport)\n\u001B[1;32m--> 945\u001B[0m \u001B[38;5;28mself\u001B[39m\u001B[38;5;241m.\u001B[39msock \u001B[38;5;241m=\u001B[39m \u001B[38;5;28;43mself\u001B[39;49m\u001B[38;5;241;43m.\u001B[39;49m\u001B[43m_create_connection\u001B[49m\u001B[43m(\u001B[49m\n\u001B[0;32m    946\u001B[0m \u001B[43m    \u001B[49m\u001B[43m(\u001B[49m\u001B[38;5;28;43mself\u001B[39;49m\u001B[38;5;241;43m.\u001B[39;49m\u001B[43mhost\u001B[49m\u001B[43m,\u001B[49m\u001B[38;5;28;43mself\u001B[39;49m\u001B[38;5;241;43m.\u001B[39;49m\u001B[43mport\u001B[49m\u001B[43m)\u001B[49m\u001B[43m,\u001B[49m\u001B[43m \u001B[49m\u001B[38;5;28;43mself\u001B[39;49m\u001B[38;5;241;43m.\u001B[39;49m\u001B[43mtimeout\u001B[49m\u001B[43m,\u001B[49m\u001B[43m \u001B[49m\u001B[38;5;28;43mself\u001B[39;49m\u001B[38;5;241;43m.\u001B[39;49m\u001B[43msource_address\u001B[49m\u001B[43m)\u001B[49m\n\u001B[0;32m    947\u001B[0m \u001B[38;5;66;03m# Might fail in OSs that don't implement TCP_NODELAY\u001B[39;00m\n\u001B[0;32m    948\u001B[0m \u001B[38;5;28;01mtry\u001B[39;00m:\n",
      "File \u001B[1;32m~\\AppData\\Local\\Programs\\Python\\Python311\\Lib\\socket.py:851\u001B[0m, in \u001B[0;36mcreate_connection\u001B[1;34m(address, timeout, source_address, all_errors)\u001B[0m\n\u001B[0;32m    849\u001B[0m \u001B[38;5;28;01mtry\u001B[39;00m:\n\u001B[0;32m    850\u001B[0m     \u001B[38;5;28;01mif\u001B[39;00m \u001B[38;5;129;01mnot\u001B[39;00m all_errors:\n\u001B[1;32m--> 851\u001B[0m         \u001B[38;5;28;01mraise\u001B[39;00m exceptions[\u001B[38;5;241m0\u001B[39m]\n\u001B[0;32m    852\u001B[0m     \u001B[38;5;28;01mraise\u001B[39;00m ExceptionGroup(\u001B[38;5;124m\"\u001B[39m\u001B[38;5;124mcreate_connection failed\u001B[39m\u001B[38;5;124m\"\u001B[39m, exceptions)\n\u001B[0;32m    853\u001B[0m \u001B[38;5;28;01mfinally\u001B[39;00m:\n\u001B[0;32m    854\u001B[0m     \u001B[38;5;66;03m# Break explicitly a reference cycle\u001B[39;00m\n",
      "File \u001B[1;32m~\\AppData\\Local\\Programs\\Python\\Python311\\Lib\\socket.py:836\u001B[0m, in \u001B[0;36mcreate_connection\u001B[1;34m(address, timeout, source_address, all_errors)\u001B[0m\n\u001B[0;32m    834\u001B[0m \u001B[38;5;28;01mif\u001B[39;00m source_address:\n\u001B[0;32m    835\u001B[0m     sock\u001B[38;5;241m.\u001B[39mbind(source_address)\n\u001B[1;32m--> 836\u001B[0m \u001B[43msock\u001B[49m\u001B[38;5;241;43m.\u001B[39;49m\u001B[43mconnect\u001B[49m\u001B[43m(\u001B[49m\u001B[43msa\u001B[49m\u001B[43m)\u001B[49m\n\u001B[0;32m    837\u001B[0m \u001B[38;5;66;03m# Break explicitly a reference cycle\u001B[39;00m\n\u001B[0;32m    838\u001B[0m exceptions\u001B[38;5;241m.\u001B[39mclear()\n",
      "\u001B[1;31mConnectionRefusedError\u001B[0m: [WinError 10061] Подключение не установлено, т.к. конечный компьютер отверг запрос на подключение"
     ]
    }
   ],
   "source": [
    "# xmlrpc_client.ipynb\n",
    "\n",
    "import xmlrpc.client as rpc\n",
    "import pickle\n",
    "\n",
    "server_proxy = rpc.ServerProxy(\"http://localhost:8010\")\n",
    "\n",
    "print('Ping:', server_proxy.exec('ping'))\n",
    "\n",
    "print('Server datetime:', server_proxy.exec('now'))\n",
    "\n",
    "print('View, type, value:', server_proxy.exec('type', 2))\n",
    "print('View, type, value:', server_proxy.exec('type', 2.))\n",
    "print('View, type, value:', server_proxy.exec('type', 'My string'))\n",
    "print('View, type, value:', server_proxy.exec('type', \"My string\"))\n",
    "print('View, type, value:', server_proxy.exec('type', [1, 2, 3]))\n",
    "print('View, type, value:', server_proxy.exec('type', [\"one\", \"two\", \"three\"]))\n",
    "print('View, type, value:', server_proxy.exec('type', (1, 2, \"3\")))\n",
    "\n",
    "print('Sum 2 + 3 :', server_proxy.exec('sum', 2, 3))\n",
    "print('Pow 2^3: ', server_proxy.exec('pow', 2, 3))"
   ]
  },
  {
   "cell_type": "code",
   "execution_count": null,
   "metadata": {
    "ExecuteTime": {
     "end_time": "2023-12-05T20:07:49.291254100Z",
     "start_time": "2023-12-05T20:07:49.290256400Z"
    }
   },
   "outputs": [],
   "source": [
    "from PIL import Image # Работа с изображением\n",
    "from pylab import * # Отображение\n",
    "\n",
    "import xmlrpc.client as rpc\n",
    "\n",
    "# Режим отображения внутри ноутбука\n",
    "%matplotlib inline\n",
    "\n",
    "img = Image.open('../../resources/lr1/Jellyfish.jpg')\n",
    "\n",
    "img_arr = array(img)\n",
    "\n",
    "# Исходное изображение\n",
    "imshow(img_arr)"
   ]
  },
  {
   "cell_type": "code",
   "execution_count": null,
   "metadata": {
    "ExecuteTime": {
     "start_time": "2023-12-05T20:07:49.388147700Z"
    }
   },
   "outputs": [],
   "source": [
    "# Тест бинарной передачи данных\n",
    "pimg = img_arr.dumps()\n",
    "pimg = pickle.dumps(img_arr) # универсально\n",
    "\n",
    "img_bin = rpc.Binary(pimg)\n",
    "\n",
    "img_bin2 = server_proxy.exec('send_back_binary', img_bin)\n",
    "\n",
    "#img_arr2 = np.loads(img_bin2.data)\n",
    "img_arr2 = pickle.loads(img_bin2.data) # универсально\n",
    "\n",
    "# Изображение после возрата с сервера\n",
    "imshow(img_arr2)"
   ]
  },
  {
   "cell_type": "code",
   "execution_count": null,
   "metadata": {
    "ExecuteTime": {
     "end_time": "2023-12-05T20:07:49.518218100Z",
     "start_time": "2023-12-05T20:07:49.397164300Z"
    }
   },
   "outputs": [],
   "source": [
    "# Инверсия цвета изображения через сервер\n",
    "def inv_color(img_arr_in):\n",
    "    pimg = pickle.dumps(img_arr_in)\n",
    "    img_bin = rpc.Binary(pimg)\n",
    "    \n",
    "    img_bin2 = server_proxy.exec('color_inversion', img_bin)\n",
    "    \n",
    "    img_arr_out = pickle.loads(img_bin2.data)\n",
    "    return img_arr_out\n",
    "\n",
    "img_arr_inv = inv_color(img_arr)\n",
    "\n",
    "# Изображение с инверсией цвета\n",
    "imshow(img_arr_inv)"
   ]
  },
  {
   "cell_type": "code",
   "execution_count": null,
   "metadata": {
    "ExecuteTime": {
     "start_time": "2023-12-05T20:07:49.425138900Z"
    }
   },
   "outputs": [],
   "source": [
    "print(server_proxy.exec('black_list_check', 'Петров'))\n",
    "print(server_proxy.exec('black_list_check', 'Примеров'))"
   ]
  },
  {
   "cell_type": "code",
   "execution_count": null,
   "metadata": {
    "ExecuteTime": {
     "start_time": "2023-12-05T20:07:49.436110Z"
    }
   },
   "outputs": [],
   "source": [
    "# Лабораторная 1. Задание 4. Проверка на наличие человека в черном списке с проверкой по ФИО и дате рождения\n",
    "\n",
    "print(server_proxy.exec('black_list_check_by_name_and_birthday', 'Иванов Иван Иванович', '22.03.1989'))\n",
    "print(server_proxy.exec('black_list_check_by_name_and_birthday', 'Иванов Иван Иванович', '23.03.1989'))"
   ]
  },
  {
   "cell_type": "code",
   "execution_count": null,
   "metadata": {
    "ExecuteTime": {
     "start_time": "2023-12-05T20:07:49.454062Z"
    }
   },
   "outputs": [],
   "source": [
    "colored_img = '../../resources/lr1/Jellyfish.jpg'\n",
    "monochrome_img = '../../resources/lr1/11.bmp'\n",
    "\n",
    "def show_modified_image(path, modify_func, param=None):\n",
    "    img = Image.open(path)\n",
    "    img_arr = array(img)\n",
    "    pimg = pickle.dumps(img_arr)\n",
    "    img_bin = rpc.Binary(pimg)\n",
    "    if param is None:\n",
    "        img_bin_out = server_proxy.exec(modify_func, img_bin)\n",
    "    else:\n",
    "        img_bin_out = server_proxy.exec(modify_func, img_bin, param)\n",
    "    img_arr_out = pickle.loads(img_bin_out.data) \n",
    "    gray()\n",
    "    imshow(img_arr_out)\n",
    "\n",
    "# Лабораторная 1. Задание 5. Модифицировать функцию сервера send_back_inversion на корректную работу также с монохромными изображениями,\n",
    "# т.е. входными данными могут быть размерности (M, N, 3) и (M, N, 1).\n",
    "\n",
    "show_modified_image(colored_img, 'color_inversion')"
   ]
  },
  {
   "cell_type": "code",
   "execution_count": null,
   "metadata": {
    "ExecuteTime": {
     "start_time": "2023-12-05T20:07:49.469117100Z"
    }
   },
   "outputs": [],
   "source": [
    "show_modified_image(monochrome_img, 'color_inversion')"
   ]
  },
  {
   "cell_type": "code",
   "execution_count": null,
   "metadata": {
    "ExecuteTime": {
     "start_time": "2023-12-05T20:07:49.475090800Z"
    }
   },
   "outputs": [],
   "source": [
    "# Лабораторная 1. Задание 6. Функция бинаризации изображения по задаваемому порогу 1-255 для цветных и монохромных изображений\n",
    "\n",
    "show_modified_image(colored_img, 'binarize_by_threshold', 100)"
   ]
  },
  {
   "cell_type": "code",
   "execution_count": null,
   "metadata": {
    "ExecuteTime": {
     "start_time": "2023-12-05T20:07:49.493284700Z"
    }
   },
   "outputs": [],
   "source": [
    "show_modified_image(colored_img, 'binarize_by_threshold', 10)"
   ]
  },
  {
   "cell_type": "code",
   "execution_count": null,
   "metadata": {
    "ExecuteTime": {
     "start_time": "2023-12-05T20:07:49.518218100Z"
    }
   },
   "outputs": [],
   "source": [
    "show_modified_image(monochrome_img, 'binarize_by_threshold', 100)"
   ]
  },
  {
   "cell_type": "code",
   "execution_count": null,
   "metadata": {
    "ExecuteTime": {
     "end_time": "2023-12-05T20:07:49.561150300Z",
     "start_time": "2023-12-05T20:07:49.543150600Z"
    }
   },
   "outputs": [],
   "source": [
    "# Лабораторная 1. Задание 7. Функция разворота изображения относительно вертикали для цветных и монохромных изображений\n",
    "\n",
    "show_modified_image(colored_img, 'mirror_vertically')"
   ]
  },
  {
   "cell_type": "code",
   "execution_count": null,
   "metadata": {
    "ExecuteTime": {
     "start_time": "2023-12-05T20:07:49.572167600Z"
    }
   },
   "outputs": [],
   "source": [
    "show_modified_image(monochrome_img, 'mirror_vertically')"
   ]
  },
  {
   "cell_type": "code",
   "execution_count": null,
   "metadata": {
    "ExecuteTime": {
     "start_time": "2023-12-05T20:07:49.580146600Z"
    }
   },
   "outputs": [],
   "source": [
    "# Лабораторная 2. Задание 4. Получение содержимого журнала событий сервера статистики\n",
    "# с возможностью получения среза по типу выполняемой операции (события) и времени\n",
    "\n",
    "import datetime\n",
    "\n",
    "all_logs = server_proxy.get_logs_slice('all', '', '', '', 1)\n",
    "sliced_logs = server_proxy.get_logs_slice('binarize_by_threshold', '2023-09-26 19:18:33', '', 10, 1)\n",
    "print('All logs:\\n' + (all_logs if isinstance(all_logs, str) else '\\n'.join(map(str, all_logs))))\n",
    "print('\\nSliced logs:\\n' + (sliced_logs if isinstance(sliced_logs, str) else '\\n'.join(map(str, sliced_logs))))"
   ]
  },
  {
   "cell_type": "code",
   "execution_count": null,
   "metadata": {
    "ExecuteTime": {
     "start_time": "2023-12-05T20:07:49.592099Z"
    }
   },
   "outputs": [],
   "source": [
    "# Лабораторная 3. Задание 5. Получение содержимого журнала событий сервера статистики с возможностью получения среза\n",
    "# по типу выполняемой функции, времени вызова и ее длительности\n",
    "\n",
    "import datetime\n",
    "\n",
    "all_logs = server_proxy.get_logs_slice('all', '', '', '', 2)\n",
    "sliced_logs = server_proxy.get_logs_slice('type', '2023-09-26 19:18:33', '', 10, 2)\n",
    "print('All logs:\\n' + (all_logs if isinstance(all_logs, str) else '\\n'.join(map(str, all_logs))))\n",
    "print('\\nSliced logs:\\n' + (sliced_logs if isinstance(sliced_logs, str) else '\\n'.join(map(str, sliced_logs))))"
   ]
  }
 ],
 "metadata": {
  "kernelspec": {
   "display_name": "Python 3 (ipykernel)",
   "language": "python",
   "name": "python3"
  },
  "language_info": {
   "codemirror_mode": {
    "name": "ipython",
    "version": 3
   },
   "file_extension": ".py",
   "mimetype": "text/x-python",
   "name": "python",
   "nbconvert_exporter": "python",
   "pygments_lexer": "ipython3",
   "version": "3.11.5"
  }
 },
 "nbformat": 4,
 "nbformat_minor": 4
}
