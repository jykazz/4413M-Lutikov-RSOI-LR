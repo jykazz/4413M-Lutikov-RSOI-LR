{
 "cells": [
  {
   "cell_type": "code",
   "execution_count": null,
   "metadata": {},
   "outputs": [
    {
     "name": "stdout",
     "output_type": "stream",
     "text": [
      "Listening on port 8018...\n"
     ]
    },
    {
     "name": "stderr",
     "output_type": "stream",
     "text": [
      "127.0.0.1 - - [10/Oct/2023 17:44:32] \"POST /RPC2 HTTP/1.1\" 200 -\n"
     ]
    }
   ],
   "source": [
    "from xmlrpc.server import SimpleXMLRPCServer\n",
    "from xmlrpc.server import SimpleXMLRPCRequestHandler\n",
    "import datetime\n",
    "import os\n",
    "import pandas as pd\n",
    "\n",
    "\n",
    "class RequestHandler(SimpleXMLRPCRequestHandler):\n",
    "    rpc_paths = ('/RPC2',)\n",
    "server = SimpleXMLRPCServer((\"localhost\", 8018),\n",
    "                            requestHandler=RequestHandler)\n",
    "\n",
    "# Настройка максимального размера лога\n",
    "max_log_size = 10\n",
    "current_log_size = None\n",
    "# Данные файла лога\n",
    "log_path = '../../resources/lr2/logs/'\n",
    "\n",
    "# Добавление строки в лог\n",
    "def add_log(e_time, sname, work_time):\n",
    "    global log_path\n",
    "    global current_log_size\n",
    "    if current_log_size is None:\n",
    "        f = open(log_path + 'log.csv','w+')\n",
    "        current_log_size = len(f.read().split('\\n')) - 1\n",
    "        f.close()\n",
    "    f = open(log_path + 'log.csv','a')\n",
    "    f.write(sname + ',' + datetime.strftime(str(e_time), '%Y%m%dT%H:%M:%S') + ',' + str(work_time) + 's\\n')\n",
    "    f.close()\n",
    "    current_log_size += 1\n",
    "    check_log_size()\n",
    "    return True\n",
    "server.register_function(add_log, 'add_log')\n",
    "\n",
    "# Проверка размера лога, сохранение лога в отдельный файл\n",
    "def check_log_size():\n",
    "    global log_path\n",
    "    global max_log_size\n",
    "    global current_log_size\n",
    "    if current_log_size == max_log_size:\n",
    "        os.rename(log_path + 'log.csv', log_path + 'log_' + datetime.datetime.now().strftime(\"%Y%m%d_%H%M%S\") + '.csv')\n",
    "        current_log_size = 0\n",
    "\n",
    "def get_logs_slice(p_type, s_time, e_time):\n",
    "    global log_path\n",
    "    f = open(log_path + 'log.csv','r')\n",
    "    text = f.read().split('\\n')\n",
    "    logs = []\n",
    "    for line in text:\n",
    "        if line != '':\n",
    "            log = line.split(',')\n",
    "            if (p_type == 'all' or log[0] == p_type) and (s_time == '' or log[1] >= s_time) and (e_time == '' or log[1] <= e_time):\n",
    "                logs.append((log[0], log[1]))\n",
    "    f.close()\n",
    "    return logs        \n",
    "server.register_function(get_logs_slice, 'get_logs_slice')\n",
    "\n",
    "print (\"Listening on port 8018...\")\n",
    "server.serve_forever()"
   ]
  }
 ],
 "metadata": {
  "kernelspec": {
   "display_name": "Python 3 (ipykernel)",
   "language": "python",
   "name": "python3"
  },
  "language_info": {
   "codemirror_mode": {
    "name": "ipython",
    "version": 3
   },
   "file_extension": ".py",
   "mimetype": "text/x-python",
   "name": "python",
   "nbconvert_exporter": "python",
   "pygments_lexer": "ipython3",
   "version": "3.11.5"
  }
 },
 "nbformat": 4,
 "nbformat_minor": 4
}
